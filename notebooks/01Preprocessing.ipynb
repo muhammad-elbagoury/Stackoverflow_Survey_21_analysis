{
 "cells": [
  {
   "cell_type": "code",
   "execution_count": null,
   "metadata": {},
   "outputs": [],
   "source": []
  },
  {
   "cell_type": "code",
   "execution_count": 51,
   "metadata": {},
   "outputs": [],
   "source": [
    "import pandas as pd\n",
    "import numpy as np"
   ]
  },
  {
   "cell_type": "code",
   "execution_count": 52,
   "metadata": {},
   "outputs": [],
   "source": [
    "DATA_PATH = '../data/raw/survey_results_public.csv'"
   ]
  },
  {
   "cell_type": "code",
   "execution_count": 53,
   "metadata": {},
   "outputs": [],
   "source": [
    "# To split answers in columns with semicolon (Copied from Deena's Project)\n",
    "def split_answers(data_series, delimiter=\";\"):\n",
    "    \"\"\" \n",
    "    Split multiple answers in a single string \n",
    "    to a list of single strings each represnting a single answers \n",
    "\n",
    "    Parameters:\n",
    "    * data_series (pd.Series): String series with answers \n",
    "    * delimiter (string): Another decimal integer \n",
    "                          Defaults to \";\"\n",
    "\n",
    "    Returns: (pd.Series): If column contains \n",
    "    \"\"\"\n",
    "    \n",
    "    # Sub functions \n",
    "    def is_splittable(pd_series, delimiter):\n",
    "        \"\"\" Check if results multiple should be splitted - Returns boolean \"\"\"    \n",
    "        return pd_series.str.contains(delimiter)\n",
    "    \n",
    "    def split_answer(pd_series, delimiter): \n",
    "        \"\"\"Function to split single answer\"\"\"\n",
    "        return pd_series.str.split(delimiter)\n",
    "    \n",
    "    # --------------------\n",
    "    \n",
    "    # Check if multiple answers exist - if none: return original \n",
    "    splittable_values = is_splittable(data_series, delimiter)\n",
    "    if not splittable_values.any():\n",
    "        return data_series\n",
    "    \n",
    "    # Else, split each value to a list \n",
    "    modified_series = split_answer(data_series, delimiter)    \n",
    "    \n",
    "    # Replace NAs with empty lists \n",
    "    mask_null = modified_series.isnull()\n",
    "    modified_series.loc[mask_null] = modified_series.loc[mask_null].apply(lambda x: [])\n",
    "    \n",
    "    return modified_series"
   ]
  },
  {
   "cell_type": "code",
   "execution_count": 54,
   "metadata": {},
   "outputs": [],
   "source": [
    "raw_df = pd.read_csv(DATA_PATH)\n",
    "df_copy = raw_df.copy()"
   ]
  },
  {
   "cell_type": "code",
   "execution_count": 55,
   "metadata": {},
   "outputs": [],
   "source": [
    "# # df_copy['LanguageHaveWorkedWith'].split(';')\n",
    "# series = df_copy['LanguageHaveWorkedWith']\n",
    "# for i in range(len(series)):\n",
    "#     series.iloc[i] = str(series.iloc[i]).split(';')\n",
    "\n",
    "# series[0]"
   ]
  },
  {
   "cell_type": "code",
   "execution_count": 56,
   "metadata": {},
   "outputs": [],
   "source": [
    "REPLACE_DICT = {\n",
    "    'YearsCodePro': {'Less than 1 year': 0, 'More than 50 years': 51}, \n",
    "    'YearsCode':    {'Less than 1 year': 0, 'More than 50 years': 51}, \n",
    "    'Age1stCode':   {'Older than 85':86, 'Younger than 5 years':4, '18 - 24 years':21, '11 - 17 years':14, \n",
    "                    '5 - 10 years':8, '25 - 34 years':30, '35 - 44 years':40, '45 - 54 years':50,\n",
    "                    '55 - 64 years':60, 'nan':0, 'Older than 64 years':68}}\n",
    "\n",
    "for col, replacement in REPLACE_DICT.items():\n",
    "    df_copy[col] = df_copy[col].replace(replacement).astype(np.float32)"
   ]
  },
  {
   "cell_type": "code",
   "execution_count": 57,
   "metadata": {},
   "outputs": [],
   "source": [
    "object_cols = df_copy.select_dtypes(include='object').columns.tolist()\n",
    "for col in object_cols:\n",
    "    df_copy[col] = split_answers(df_copy[col])"
   ]
  },
  {
   "cell_type": "code",
   "execution_count": 58,
   "metadata": {},
   "outputs": [
    {
     "name": "stdout",
     "output_type": "stream",
     "text": [
      "<class 'pandas.core.frame.DataFrame'>\n",
      "RangeIndex: 83439 entries, 0 to 83438\n",
      "Data columns (total 48 columns):\n",
      " #   Column                        Non-Null Count  Dtype  \n",
      "---  ------                        --------------  -----  \n",
      " 0   ResponseId                    83439 non-null  int64  \n",
      " 1   MainBranch                    83439 non-null  object \n",
      " 2   Employment                    83323 non-null  object \n",
      " 3   Country                       83439 non-null  object \n",
      " 4   US_State                      14920 non-null  object \n",
      " 5   UK_Country                    4418 non-null   object \n",
      " 6   EdLevel                       83126 non-null  object \n",
      " 7   Age1stCode                    83243 non-null  float32\n",
      " 8   LearnCode                     83439 non-null  object \n",
      " 9   YearsCode                     81641 non-null  float32\n",
      " 10  YearsCodePro                  61216 non-null  float32\n",
      " 11  DevType                       83439 non-null  object \n",
      " 12  OrgSize                       60726 non-null  object \n",
      " 13  Currency                      61080 non-null  object \n",
      " 14  CompTotal                     47183 non-null  float64\n",
      " 15  CompFreq                      52150 non-null  object \n",
      " 16  LanguageHaveWorkedWith        83439 non-null  object \n",
      " 17  LanguageWantToWorkWith        83439 non-null  object \n",
      " 18  DatabaseHaveWorkedWith        83439 non-null  object \n",
      " 19  DatabaseWantToWorkWith        83439 non-null  object \n",
      " 20  PlatformHaveWorkedWith        83439 non-null  object \n",
      " 21  PlatformWantToWorkWith        83439 non-null  object \n",
      " 22  WebframeHaveWorkedWith        83439 non-null  object \n",
      " 23  WebframeWantToWorkWith        83439 non-null  object \n",
      " 24  MiscTechHaveWorkedWith        83439 non-null  object \n",
      " 25  MiscTechWantToWorkWith        83439 non-null  object \n",
      " 26  ToolsTechHaveWorkedWith       83439 non-null  object \n",
      " 27  ToolsTechWantToWorkWith       83439 non-null  object \n",
      " 28  NEWCollabToolsHaveWorkedWith  83439 non-null  object \n",
      " 29  NEWCollabToolsWantToWorkWith  83439 non-null  object \n",
      " 30  OpSys                         83294 non-null  object \n",
      " 31  NEWStuck                      83439 non-null  object \n",
      " 32  NEWSOSites                    83439 non-null  object \n",
      " 33  SOVisitFreq                   82413 non-null  object \n",
      " 34  SOAccount                     82525 non-null  object \n",
      " 35  SOPartFreq                    67553 non-null  object \n",
      " 36  SOComm                        82319 non-null  object \n",
      " 37  NEWOtherComms                 82828 non-null  object \n",
      " 38  Age                           82407 non-null  object \n",
      " 39  Gender                        83439 non-null  object \n",
      " 40  Trans                         80678 non-null  object \n",
      " 41  Sexuality                     83439 non-null  object \n",
      " 42  Ethnicity                     83439 non-null  object \n",
      " 43  Accessibility                 83439 non-null  object \n",
      " 44  MentalHealth                  83439 non-null  object \n",
      " 45  SurveyLength                  81711 non-null  object \n",
      " 46  SurveyEase                    81948 non-null  object \n",
      " 47  ConvertedCompYearly           46844 non-null  float64\n",
      "dtypes: float32(3), float64(2), int64(1), object(42)\n",
      "memory usage: 29.6+ MB\n"
     ]
    }
   ],
   "source": [
    "df_copy.info()"
   ]
  },
  {
   "cell_type": "code",
   "execution_count": 86,
   "metadata": {},
   "outputs": [
    {
     "name": "stdout",
     "output_type": "stream",
     "text": [
      "Bash/Shell;C#;HTML/CSS;Java;JavaScript;Kotlin;Node.js;Python;Swift\n",
      "['Bash/Shell', 'C#', 'HTML/CSS', 'Java', 'JavaScript', 'Kotlin', 'Node.js', 'Python', 'Swift']\n"
     ]
    }
   ],
   "source": [
    "# Visualizing to verify edits\n",
    "i = df_copy.sample(1).index[0]\n",
    "print(raw_df['LanguageHaveWorkedWith'].iloc[i])\n",
    "print(df_copy['LanguageHaveWorkedWith'].iloc[i])"
   ]
  },
  {
   "cell_type": "code",
   "execution_count": 87,
   "metadata": {},
   "outputs": [
    {
     "name": "stdout",
     "output_type": "stream",
     "text": [
      "Less than 1 year\n",
      "0.0\n"
     ]
    }
   ],
   "source": [
    "print(raw_df['YearsCodePro'].iloc[i])\n",
    "print(df_copy['YearsCodePro'].iloc[i])"
   ]
  },
  {
   "cell_type": "code",
   "execution_count": 88,
   "metadata": {},
   "outputs": [
    {
     "name": "stdout",
     "output_type": "stream",
     "text": [
      "Developer, desktop or enterprise applications;Developer, back-end\n",
      "['Developer, desktop or enterprise applications', 'Developer, back-end']\n"
     ]
    }
   ],
   "source": [
    "print(raw_df['DevType'].iloc[i])\n",
    "print(df_copy['DevType'].iloc[i])"
   ]
  },
  {
   "cell_type": "code",
   "execution_count": 89,
   "metadata": {},
   "outputs": [],
   "source": [
    "EXPORT_PATH = '../data/processed/1_preprocessed_df.pkl'\n",
    "df_copy.to_pickle(EXPORT_PATH)"
   ]
  },
  {
   "cell_type": "code",
   "execution_count": null,
   "metadata": {},
   "outputs": [],
   "source": []
  }
 ],
 "metadata": {
  "interpreter": {
   "hash": "99ebbddb4d26d80122836a1451186d0c9e365e5714863c74660ee872bfd6eb66"
  },
  "kernelspec": {
   "display_name": "Python 3.9.7 ('base')",
   "language": "python",
   "name": "python3"
  },
  "language_info": {
   "codemirror_mode": {
    "name": "ipython",
    "version": 3
   },
   "file_extension": ".py",
   "mimetype": "text/x-python",
   "name": "python",
   "nbconvert_exporter": "python",
   "pygments_lexer": "ipython3",
   "version": "3.9.7"
  },
  "orig_nbformat": 4
 },
 "nbformat": 4,
 "nbformat_minor": 2
}
